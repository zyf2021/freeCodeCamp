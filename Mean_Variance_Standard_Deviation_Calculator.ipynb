{
  "nbformat": 4,
  "nbformat_minor": 0,
  "metadata": {
    "colab": {
      "provenance": [],
      "authorship_tag": "ABX9TyNhEBEXUhXEZhyXaSk8PuP4",
      "include_colab_link": true
    },
    "kernelspec": {
      "name": "python3",
      "display_name": "Python 3"
    },
    "language_info": {
      "name": "python"
    }
  },
  "cells": [
    {
      "cell_type": "markdown",
      "metadata": {
        "id": "view-in-github",
        "colab_type": "text"
      },
      "source": [
        "<a href=\"https://colab.research.google.com/github/zyf2021/freeCodeCamp/blob/main/Mean_Variance_Standard_Deviation_Calculator.ipynb\" target=\"_parent\"><img src=\"https://colab.research.google.com/assets/colab-badge.svg\" alt=\"Open In Colab\"/></a>"
      ]
    },
    {
      "cell_type": "code",
      "execution_count": null,
      "metadata": {
        "colab": {
          "base_uri": "https://localhost:8080/",
          "height": 35
        },
        "id": "22vB2NgXODtB",
        "outputId": "e7c8d125-143b-48e4-cd17-572c3d296afd"
      },
      "outputs": [
        {
          "output_type": "execute_result",
          "data": {
            "text/plain": [
              "'List must contain nine numbers.'"
            ],
            "application/vnd.google.colaboratory.intrinsic+json": {
              "type": "string"
            }
          },
          "metadata": {},
          "execution_count": 18
        }
      ],
      "source": [
        "import numpy as np\n",
        "\n",
        "def calculate(s):\n",
        "  try:\n",
        "    s_dict = {}\n",
        "    s_np = np.array(s)\n",
        "    new_form = np.reshape(s_np, (3,3))\n",
        "    s_dict['mean'] = [new_form.mean(0).tolist(), new_form.mean(1).tolist(), new_form.mean()]\n",
        "    s_dict['variance'] = [new_form.var(0).tolist(), new_form.var(1).tolist(), new_form.var()]\n",
        "    s_dict['standard deviation']= [new_form.std(0).tolist(), new_form.std(1).tolist(), new_form.std()]\n",
        "    s_dict['max'] = [new_form.max(0).tolist(), new_form.max(1).tolist(), new_form.max()]\n",
        "    s_dict['min'] = [new_form.min(0).tolist(), new_form.min(1).tolist(), new_form.min()]\n",
        "    s_dict['sum'] = [new_form.sum(0).tolist(), new_form.sum(1).tolist(), new_form.sum()]\n",
        "    return s_dict\n",
        "  except ValueError:\n",
        "    return 'List must contain nine numbers.'\n",
        "\n",
        "\n",
        "calculate([0,1,2,3,4,5,6,7])\n"
      ]
    },
    {
      "cell_type": "code",
      "source": [
        "import unittest\n",
        "import mean_var_std\n",
        "\n",
        "\n",
        "# the test case\n",
        "class UnitTests(unittest.TestCase):\n",
        "    def test_calculate(self):\n",
        "        actual = mean_var_std.calculate([2,6,2,8,4,0,1,5,7])\n",
        "        expected = {'mean': [[3.6666666666666665, 5.0, 3.0], [3.3333333333333335, 4.0, 4.333333333333333], 3.888888888888889], 'variance': [[9.555555555555557, 0.6666666666666666, 8.666666666666666], [3.555555555555556, 10.666666666666666, 6.222222222222221], 6.987654320987654], 'standard deviation': [[3.091206165165235, 0.816496580927726, 2.943920288775949], [1.8856180831641267, 3.265986323710904, 2.494438257849294], 2.6434171674156266], 'max': [[8, 6, 7], [6, 8, 7], 8], 'min': [[1, 4, 0], [2, 0, 1], 0], 'sum': [[11, 15, 9], [10, 12, 13], 35]}\n",
        "        self.assertAlmostEqual(actual, expected, \"Expected different output when calling 'calculate()' with '[2,6,2,8,4,0,1,5,7]'\")\n",
        "\n",
        "    def test_calculate2(self):\n",
        "        actual = mean_var_std.calculate([9,1,5,3,3,3,2,9,0])\n",
        "        expected = {'mean': [[4.666666666666667, 4.333333333333333, 2.6666666666666665], [5.0, 3.0, 3.6666666666666665], 3.888888888888889], 'variance': [[9.555555555555555, 11.555555555555557, 4.222222222222222], [10.666666666666666, 0.0, 14.888888888888891], 9.209876543209875], 'standard deviation': [[3.0912061651652345, 3.39934634239519, 2.0548046676563256], [3.265986323710904, 0.0, 3.8586123009300755], 3.0347778408328137], 'max': [[9, 9, 5], [9, 3, 9], 9], 'min': [[2, 1, 0], [1, 3, 0], 0], 'sum': [[14, 13, 8], [15, 9, 11], 35]}\n",
        "        self.assertAlmostEqual(actual, expected, \"Expected different output when calling 'calculate()' with '[9,1,5,3,3,3,2,9,0]'\")\n",
        "\n",
        "    def test_calculate_with_few_digits(self):\n",
        "        self.assertRaisesRegex(ValueError, \"List must contain nine numbers.\", mean_var_std.calculate, [2,6,2,8,4,0,1,])\n",
        "\n",
        "if __name__ == \"__main__\":\n",
        "    unittest.main()\n"
      ],
      "metadata": {
        "id": "mqm5mzTJeB5I"
      },
      "execution_count": null,
      "outputs": []
    }
  ]
}